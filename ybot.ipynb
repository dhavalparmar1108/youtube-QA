{
 "cells": [
  {
   "cell_type": "code",
   "execution_count": 44,
   "id": "475be305",
   "metadata": {},
   "outputs": [],
   "source": [
    "from youtube_transcript_api import YouTubeTranscriptApi, TranscriptsDisabled\n",
    "from langchain.text_splitter import RecursiveCharacterTextSplitter\n",
    "from langchain_openai import OpenAIEmbeddings, ChatOpenAI\n",
    "from langchain_community.vectorstores import FAISS\n",
    "from langchain_core.prompts import PromptTemplate\n"
   ]
  },
  {
   "cell_type": "code",
   "execution_count": 45,
   "id": "d0c893d6",
   "metadata": {},
   "outputs": [],
   "source": [
    "from langchain_huggingface import ChatHuggingFace, HuggingFaceEndpoint\n",
    "from langchain.embeddings import HuggingFaceEmbeddings"
   ]
  },
  {
   "cell_type": "code",
   "execution_count": 46,
   "id": "68f50b36",
   "metadata": {},
   "outputs": [
    {
     "name": "stdout",
     "output_type": "stream",
     "text": [
      "BwziJOvqFE0\n"
     ]
    }
   ],
   "source": [
    "video_id = extract_youtube_video_id(\"https://www.youtube.com/watch?v=BwziJOvqFE0\")\n",
    "print(video_id)"
   ]
  },
  {
   "cell_type": "code",
   "execution_count": 47,
   "id": "43a67b57",
   "metadata": {},
   "outputs": [
    {
     "name": "stdout",
     "output_type": "stream",
     "text": [
      "- [Narrator] Imagine a\n",
      "small rural village in Iraq in the middle of the night in 2003. A man is hiding inside\n",
      "an underground hole. Its entrance covered with styrofoam. And suddenly, the streetlights\n",
      "in the entire village go out and hundreds of U.S. soldiers begin sweeping through the town. As the troops reach the farmhouse, a soldier starts to unearth a rope, discovering that it leads\n",
      "to the hidden trap door. They open it and prepare to\n",
      "throw a grenade into the hole just to be safe. But just before the pin is pulled, everyone freezes as a pair of\n",
      "hands emerge from the hole, followed by a bearded man. With his hands in the air, he\n",
      "declares to those around him. \"My name is Saddam Hussein. I am the president of Iraq\n",
      "and I want to negotiate.\" - Ladies and gentlemen, we got him. (gentle music) - [Narrator] Whether\n",
      "you've heard the story of Saddam's hiding place because of the countless\n",
      "memes circulating online, or whether you lived through this time and think you remember it, I doubt you ever heard the full story. And so for this video, I\n",
      "will be exploring just that. This is how Saddam Hussein was found. (dramatic music) The hunt for Saddam began\n",
      "with the invasion of Iraq in March of 2003. - My fellow citizens, at this hour, American and coalition forces\n",
      "are in the early stages of military operations to\n",
      "disarm Iraq, to free its people, and to defend the world from grave danger. - [Narrator] The U.S.\n",
      "had started a coalition to overthrow the Iraqi president, and the reason they presented\n",
      "to the world for doing so was that they claimed Saddam was hiding weapons of mass destruction. - There is no doubt that Saddam Hussein now has weapons of mass destruction. - [Narrator] A claim that would\n",
      "later turn out to be false. - You know, when we first got in there and started looking around\n",
      "and didn't find anything, get that kinda sinking feeling that uh-oh. (suspenseful music) - [Narrator] The invasion itself went fast as the United States, along\n",
      "with troops from the U.K., Australia, and Poland fought their way to the capital city of Baghdad, which fell just three weeks\n",
      "after the initial invasion. But still, the troops were not able to find the Iraqi\n",
      "president, Saddam Hussein. - [Reporter] To the very heart of Baghdad, U.S. tanks and troops finally arrive, spelling the end for the Iraqi regime. The next task, to hunt down the men who fought and defended\n",
      "the city for a fortnight. - [Narrator] And in the middle of a public square in the city, American forces join Iraqis\n",
      "near a massive statue dedicated to Saddam, whose\n",
      "rule has come to an end. And to declare their victory, American soldiers placed an American flag over the face of the statue. This was much to the dismay\n",
      "of the Iraqi citizens who had gathered with them,\n",
      "as raising an American flag seemed to represent the U.S.\n",
      "controlling the Iraqi people. And after realizing\n",
      "the image this created, the soldiers quickly replaced\n",
      "their flag with an Iraqi one, and then the statue was toppled. (crowd cheering) But though his likeness\n",
      "was brought to the ground, the real Saddam was still at large. Locating him and other high\n",
      "ranking members of his regime became a top priority\n",
      "for the U.S. military. And to keep track of the\n",
      "targeted former officials, a special deck of playing cards is created that features the 52\n",
      "most wanted officials. This way, soldiers who regularly\n",
      "play games during breaks will be able to easily\n",
      "pick up high value targets and recognize the faces\n",
      "of those on the hunt. And Saddam Hussein remains\n",
      "priority number one, the Ace of Spades, along\n",
      "with his sons, Uday and Qusay right below him. - [Reporter] In the\n",
      "skies and on the ground they have one order, to find Saddam. The word is he never stays in one place for more than a few hours, constantly on the move probably by car. - [Narrator] Several months\n",
      "pass after the fall of Baghdad. And many targets are\n",
      "found and apprehended, but none of them lead the U.S. to where Saddam or his sons are hiding. To gather more information, a $15 million bounty was\n",
      "placed on each brother, and a $25 million bounty\n",
      "was put forth for Saddam. - Senator, is today's $25\n",
      "million on the head of Saddam gonna change anything? - [Reporter] With a reward of $25 million, American troops are increasingly confident that they will soon have\n",
      "the ace in their pack. - [Narrator] And this incentive\n",
      "gives the American military the exact break they had been looking for as four months after the start of the war, a man enters a military base in Mosul, claiming that he's sheltering\n",
      "Uday and Qusay in his home. (suspenseful music) Almost unable to believe it, troops are dispatched the\n",
      "next day to the man's house located in Mosul, the\n",
      "second largest city of Iraq. And to their surprise,\n",
      "Saddam's sons, Uday and Qusay are actually inside the\n",
      "building, hiding in a mansion that is now being\n",
      "surrounded by U.S. troops. And as the brothers are not\n",
      "willing to come quietly, gunfire breaks out. The U.S. troops retreat\n",
      "and call in reinforcements. Not only do they get additional manpower, but also a missile strike\n",
      "is called on the house the brothers are hiding in,\n",
      "destroying most of the house. And after the dust is cleared, soldiers are able to enter the house, but the brothers had already been killed. - Everybody agrees that\n",
      "it would've been better if the brothers had been captured alive. - I would never consider this a failure. Our mission is to find, kill or capture. (gentle techno music) - [Narrator] Even though\n",
      "it is perhaps unlikely his sons would've given any\n",
      "information to the Americans about where Saddam is hiding,\n",
      "with both of them gone, the road to finding him remains unclear. But what the raid on the safe house did is it triggered Saddam to\n",
      "release a sign of life himself as an audio tape surfaces and is broadcast on which Saddam can be heard mourning the loss of his two sons. (Saddam speaking in foreign language) - [Narrator] The existence of this tape confirms that Saddam is still alive. And the other thing this\n",
      "whole situation showed is that the bounty had resulted\n",
      "in someone coming forward and providing helpful information. - Secretary Powell today\n",
      "approved the payment of $30 million reward to the individual who provided the critical\n",
      "piece of information. - [Narrator] Therefore, the U.S. decides to pay the full reward to the informant. $30 million in addition to being relocated to the United States. Their hope is that once Iraqi citizens see that the U.S. is serious\n",
      "about their bounties, it would encourage more people to step forward with information. - We're trying to look for Saddam Hussein. We have his two sons and we\n",
      "already took care of them, but we need Saddam Hussein. We're urging the Iraqi people to help us out any way that they can. - [Reporter] There's no\n",
      "shortage of information. But with a $25 million reward\n",
      "on offer, much is unreliable. - [Narrator] But as the months rolled by with many unsuccessful\n",
      "raids to capture Saddam, it begins to seem less and less likely that anyone will come forward. (door thudding) - [Reporter 1] Three civilians were shot during last night's raid. Innocent victims of this frantic search. - [Reporter 2] An elite secretive unit known as Task Force 20\n",
      "is leading the hunt. There is no clear indication tonight that his capture is imminent. - The Americans are not about\n",
      "to apologize for all of this. - [Reporter 1] A trail of\n",
      "destruction left in the wake of the special task force that's hunting down Saddam Hussein. (soft percussive music) - [Narrator] With many of the raids leading to absolutely nothing,\n",
      "the focus again shifts. And the U.S. military puts their attention towards completing the\n",
      "deck by tracking down prior officials from Saddam's regime. Several high ranking officials that worked directly\n",
      "under Saddam were captured with the hope that they might be able to provide information. Surprisingly though,\n",
      "none of them can point to their former president's hiding place. And while the bulk of the\n",
      "military remained focused on hunting targets from the deck of cards, one Staff Sergeant Eric Maddox decides to go into a\n",
      "completely different direction. Maddox realizes that the\n",
      "targets they are focused on represent the old regime\n",
      "that had fallen from power. These are people that were given positions because they were related to Saddam, and so their power came from him. Right now, what Saddam needs is people with the power to protect him, and that can only come from\n",
      "one place, his bodyguards. While in power, Saddam had a\n",
      "system of personal protection comprised of three different tiers. The outermost level of guards were assigned to fixed locations, such as his various\n",
      "palaces across the country. Above them was a level of guards that would travel ahead of Saddam to secure locations in various areas. And finally, above these\n",
      "guards were the Hamaya, the innermost layer of elite guards. Those who would stay\n",
      "with Saddam at all times. Maddox theorizes that these guards are likely the ones\n",
      "currently protecting Saddam. And in order to find them, he begins his work in\n",
      "Tikrit, Saddam's hometown. Tikrit had already been\n",
      "thoroughly searched and it is largely believed\n",
      "that Saddam isn't hiding here. However, it is still a hotbed for another family group, the Al-Muslit. And most of Saddam's elite bodyguards came from exactly this family. As Maddox begins his interrogations, he notices that one name keeps popping up. Muhammad Ibrahim Omar Al-Muslit. And the more Maddox learns\n",
      "about Muhammad Ibrahim, the more convinced he feels\n",
      "that he is on the right track. Not only was Muhammad Ibrahim one of Saddam's most trusted\n",
      "inner circle bodyguards, but it seems like he is currently leading the entire resistance\n",
      "against the U.S. occupation. He had installed several lieutenants in charge of certain areas of Iraq to coordinate attacks\n",
      "against coalition forces. And he is the one coordinating\n",
      "funds for counter attacks. - [Reporter] Saddam's loyalists here had taken off their uniforms and tried to fight the\n",
      "Marines with guerilla tactics. - [Narrator] And if Muhammad Ibrahim is really running operations\n",
      "in Saddam's stead, then he has to know\n",
      "where Saddam is hiding. And so, Muhammad Ibrahim\n",
      "becomes a prime target. To get to him, Maddox Interrogates a nephew of Muhammad Ibrahim, who then reveals the names and locations of two close business associates, as well as the name of\n",
      "Muhammad's driver, Basim Latif. Basim along with family members of these business\n",
      "associates are interrogated and the U.S. is able to\n",
      "begin filling in the gaps of Muhammad's movement. So far that they even find out the location of Muhammad's son, Muslit, who is interrogated next. Initially, it seems that Muslit isn't able to be of much help. He didn't have much\n",
      "involvement in the resistance, but what he did reveal is that he used to often\n",
      "go fishing with his father. And even though they don't go anymore, he knows that his father still fishes at a pond he owns in the city of Samarra. This may seem like a trivial\n",
      "piece of information, but Maddox thought back to an\n",
      "interrogation he had before with a prior housekeeper of Saddam. He remembers that the housekeeper had mentioned that Saddam loved Masgouf, a type of fish that is popular in Iraq. Suddenly, the trail seemed red hot and Maddox was certain that Muhammad would be able to lead him to Saddam. (bright lilting music) To find out more, U.S.\n",
      "forces raid the fish farm Muhammad was known to use. Two fishermen were located, but neither of them were Muhammad. And when these fishermen are questioned, Maddox finds out that\n",
      "one of them was a cousin to a lieutenant in the resistance. And the fisherman also\n",
      "mentions an uncle they shared who had a house in Baghdad. Perhaps Muhammad could be hiding there. If so, he would be hiding in plain sight in the Iraqi capital of Baghdad that had been under the control of the U.S. led coalition for months. But with no better lead to follow, the decision is made to\n",
      "raid the house in Baghdad. When you think about it, what led them here is a\n",
      "series of rather weak links. As U.S. troops are about\n",
      "to raid an apartment of an uncle of a fisherman from a place where the son of the suspect\n",
      "remembers fishing with his dad. And so, it comes as a\n",
      "surprise to the special forces when inside the apartment\n",
      "they find their suspect. Muhammad Ibrahim Omar\n",
      "Al-Muslit is captured. (helicopter blades whirring) Still, there was no guarantee that Muhammad would be willing to talk. Maddox himself questions him and he offers him protection\n",
      "for himself and his family. And with that assurance,\n",
      "Muhammad begins to talk and he reveals that Saddam is hiding in the small farming village of Ad-Dawr, bringing us back to the scene from the very beginning of this video. As the U.S. troops searched a town, Muhammad Ibrahim is there\n",
      "with them as a prisoner. Based on his information, they search two unassuming farmhouses just east of the Tigris River. But when both of them are searched, their target is still nowhere in sight. Beginning to think this\n",
      "rate is just a dead end, the troops are about to give up. But then, Muhammad Ibrahim\n",
      "points out another building just to the north of the second farmhouse. The building is little more\n",
      "than a shack with two rooms, and no one is inside here either. It seems as though Muhammad Ibrahim has a good idea of where Saddam is, but the soldiers are not catching on. And there must have been\n",
      "some final mental block that prevents Muhammad Ibrahim from straight up telling them. He is willing to help, but he\n",
      "also doesn't wanna be the one giving Saddam away directly. And so, Muhammad Ibrahim begins\n",
      "kicking at a piece of rope half buried in the ground outside the hut. Now, the soldiers understand. They find the trap door and Saddam. - Ladies and gentlemen, we got him. (crowd cheering and applauding) - United States military forces captured Saddam Hussein alive. In the history of Iraq, a\n",
      "dark and painful era is over. A hopeful day has arrived. (screen whooshing) (somber music) - [Narrator] Even though\n",
      "Saddam Hussein was captured, it didn't end the Iraq War. Coalition forces had no exit strategy once Saddam's reign had ended and instability continued for years as the country struggled to rebuild what the invasion had destroyed. The image of Saddam hiding though became one of the most iconic\n",
      "ones in modern history, ingrained not just in the\n",
      "timeline of global events, but also in pop culture. It even became somewhat of a\n",
      "meme with people finding Saddam hiding in all kinds of random places. Wikipedia even struggled with vandalism as Saddam kept hiding in\n",
      "all kinds of random graphs. But this is where it is\n",
      "important to remember that this moment didn't\n",
      "become iconic by itself. (gentle spirited music) After Saddam was captured in this hole, the U.S. military invited\n",
      "lots of journalists to tour his hiding place, ensuring the world saw where\n",
      "Saddam had been cowering. - Today, I had the chance to clamber into the tyrant's last hiding place. It's a miserable hiding place, particularly for a man who built some of the most ostentatious\n",
      "palaces in the Middle East. - [Narrator] They publicized\n",
      "photos of his arrest, showing him frail and utterly defeated. They also conducted a medical\n",
      "examination of Saddam, where a doctor checked his teeth as though his dental hygiene was a concern after his capture. But this video also was released publicly. And really, this story isn't\n",
      "just about finding Saddam. It is also a tale of the\n",
      "power of different narratives. On the U.S. side, there is the narrative that there were weapons\n",
      "of mass destruction later proven to be false. Both the U.S. and Saddam understood that images\n",
      "can carry immense power. Saddam had spent decades\n",
      "fostering a cult of personality, saturating the country with his image, using state-controlled media to build a larger than life persona while brutally oppressing\n",
      "any form of opposition. And the U.S. military felt\n",
      "a need to erode that myth. With the support for\n",
      "the war quickly waning both in the U.S. and globally, an easy solution was to make\n",
      "Saddam the face of the war. Saddam was undeniably one\n",
      "of the most brutal leaders of the modern era, and the image he projected\n",
      "was built on propaganda. But the carefully staged\n",
      "presentation of his downfall, the fact that this very\n",
      "image became so well known was no less a form of such. (gentle somber music) Telling stories like this is at the core of what I try to do with this channel. Revisiting events that shaped our world and recreating how\n",
      "exactly they played out. And it is precisely what\n",
      "I did for my next video, focusing on the Deep\n",
      "Water Horizon catastrophe. - On April 20th, an\n",
      "explosion ripped through BP Deep Water Horizon drilling rig. (explosion booming) - Far offshore, the rig is\n",
      "still burning out of control. - It's the worst oil\n",
      "spill in U.S. history. - [Narrator] For this video, I have created extensive 3D\n",
      "animations to better visualize the sheer amount of oil\n",
      "lost during the disaster. And the video explains how\n",
      "engineers try to pluck a hole more than 5,000 feet deep in the ocean. - Because there's never been a\n",
      "leak this size at this depth, stopping it has tested the\n",
      "limits of human technology. (bell clanging) - [Narrator] One month from now, this video will come to YouTube, but you can already watch\n",
      "it right now on Nebula. That is because I publish all\n",
      "my videos to Nebula first. One video ahead of the YouTube uploads. And I created an entire video series that is completely exclusive to Nebula called \"Under Exposure.\" It is a show I am incredibly proud of as I was able to focus\n",
      "on darker subject matters that would otherwise risk\n",
      "getting demonetized on YouTube. For example, if you enjoyed\n",
      "this video about Saddam Hussein, you will probably also\n",
      "enjoy my exclusive video about the Kuwaiti Oil Fires. An unbelievable story of what happened when Saddam Hussein's troops set thousands of oil wells on fire in the neighboring country of Kuwait. And besides my original series, Nebula is filled with exclusive content from lots and lots of talented creators. With exclusive game shows,\n",
      "full length documentaries, and even feature films. So, sign up on nebula.tv/neo. And if you use this link, you will actually get a 40%\n",
      "discount of the annual plan. That comes out to just $3 a\n",
      "month to access all of Nebula where you can watch all my videos early. So, thanks for your support\n",
      "and thanks for watching. (gentle rhythmic music)\n"
     ]
    }
   ],
   "source": [
    "try:\n",
    "    # If you don’t care which language, this returns the “best” one\n",
    "    transcript_list = YouTubeTranscriptApi.get_transcript(video_id, languages=[\"en\"])\n",
    "\n",
    "    # Flatten it to plain text\n",
    "    transcript = \" \".join(chunk[\"text\"] for chunk in transcript_list)\n",
    "    print(transcript)\n",
    "\n",
    "except:\n",
    "    print(\"No captions available for this video.\")"
   ]
  },
  {
   "cell_type": "code",
   "execution_count": 48,
   "id": "af4b7f6c",
   "metadata": {},
   "outputs": [
    {
     "data": {
      "text/plain": [
       "'- [Narrator] Imagine a\\nsmall rural village in Iraq in the middle of the night in 2003. A man is hiding inside\\nan underground hole. Its entrance covered with styrofoam. And suddenly, the streetlights\\nin the entire village go out and hundreds of U.S. soldiers begin sweeping through the town. As the troops reach the farmhouse, a soldier starts to unearth a rope, discovering that it leads\\nto the hidden trap door. They open it and prepare to\\nthrow a grenade into the hole just to be safe. But just before the pin is pulled, everyone freezes as a pair of\\nhands emerge from the hole, followed by a bearded man. With his hands in the air, he\\ndeclares to those around him. \"My name is Saddam Hussein. I am the president of Iraq\\nand I want to negotiate.\" - Ladies and gentlemen, we got him. (gentle music) - [Narrator] Whether\\nyou\\'ve heard the story of Saddam\\'s hiding place because of the countless\\nmemes circulating online, or whether you lived through this time and think you remember it, I doubt you ever heard the full story. And so for this video, I\\nwill be exploring just that. This is how Saddam Hussein was found. (dramatic music) The hunt for Saddam began\\nwith the invasion of Iraq in March of 2003. - My fellow citizens, at this hour, American and coalition forces\\nare in the early stages of military operations to\\ndisarm Iraq, to free its people, and to defend the world from grave danger. - [Narrator] The U.S.\\nhad started a coalition to overthrow the Iraqi president, and the reason they presented\\nto the world for doing so was that they claimed Saddam was hiding weapons of mass destruction. - There is no doubt that Saddam Hussein now has weapons of mass destruction. - [Narrator] A claim that would\\nlater turn out to be false. - You know, when we first got in there and started looking around\\nand didn\\'t find anything, get that kinda sinking feeling that uh-oh. (suspenseful music) - [Narrator] The invasion itself went fast as the United States, along\\nwith troops from the U.K., Australia, and Poland fought their way to the capital city of Baghdad, which fell just three weeks\\nafter the initial invasion. But still, the troops were not able to find the Iraqi\\npresident, Saddam Hussein. - [Reporter] To the very heart of Baghdad, U.S. tanks and troops finally arrive, spelling the end for the Iraqi regime. The next task, to hunt down the men who fought and defended\\nthe city for a fortnight. - [Narrator] And in the middle of a public square in the city, American forces join Iraqis\\nnear a massive statue dedicated to Saddam, whose\\nrule has come to an end. And to declare their victory, American soldiers placed an American flag over the face of the statue. This was much to the dismay\\nof the Iraqi citizens who had gathered with them,\\nas raising an American flag seemed to represent the U.S.\\ncontrolling the Iraqi people. And after realizing\\nthe image this created, the soldiers quickly replaced\\ntheir flag with an Iraqi one, and then the statue was toppled. (crowd cheering) But though his likeness\\nwas brought to the ground, the real Saddam was still at large. Locating him and other high\\nranking members of his regime became a top priority\\nfor the U.S. military. And to keep track of the\\ntargeted former officials, a special deck of playing cards is created that features the 52\\nmost wanted officials. This way, soldiers who regularly\\nplay games during breaks will be able to easily\\npick up high value targets and recognize the faces\\nof those on the hunt. And Saddam Hussein remains\\npriority number one, the Ace of Spades, along\\nwith his sons, Uday and Qusay right below him. - [Reporter] In the\\nskies and on the ground they have one order, to find Saddam. The word is he never stays in one place for more than a few hours, constantly on the move probably by car. - [Narrator] Several months\\npass after the fall of Baghdad. And many targets are\\nfound and apprehended, but none of them lead the U.S. to where Saddam or his sons are hiding. To gather more information, a $15 million bounty was\\nplaced on each brother, and a $25 million bounty\\nwas put forth for Saddam. - Senator, is today\\'s $25\\nmillion on the head of Saddam gonna change anything? - [Reporter] With a reward of $25 million, American troops are increasingly confident that they will soon have\\nthe ace in their pack. - [Narrator] And this incentive\\ngives the American military the exact break they had been looking for as four months after the start of the war, a man enters a military base in Mosul, claiming that he\\'s sheltering\\nUday and Qusay in his home. (suspenseful music) Almost unable to believe it, troops are dispatched the\\nnext day to the man\\'s house located in Mosul, the\\nsecond largest city of Iraq. And to their surprise,\\nSaddam\\'s sons, Uday and Qusay are actually inside the\\nbuilding, hiding in a mansion that is now being\\nsurrounded by U.S. troops. And as the brothers are not\\nwilling to come quietly, gunfire breaks out. The U.S. troops retreat\\nand call in reinforcements. Not only do they get additional manpower, but also a missile strike\\nis called on the house the brothers are hiding in,\\ndestroying most of the house. And after the dust is cleared, soldiers are able to enter the house, but the brothers had already been killed. - Everybody agrees that\\nit would\\'ve been better if the brothers had been captured alive. - I would never consider this a failure. Our mission is to find, kill or capture. (gentle techno music) - [Narrator] Even though\\nit is perhaps unlikely his sons would\\'ve given any\\ninformation to the Americans about where Saddam is hiding,\\nwith both of them gone, the road to finding him remains unclear. But what the raid on the safe house did is it triggered Saddam to\\nrelease a sign of life himself as an audio tape surfaces and is broadcast on which Saddam can be heard mourning the loss of his two sons. (Saddam speaking in foreign language) - [Narrator] The existence of this tape confirms that Saddam is still alive. And the other thing this\\nwhole situation showed is that the bounty had resulted\\nin someone coming forward and providing helpful information. - Secretary Powell today\\napproved the payment of $30 million reward to the individual who provided the critical\\npiece of information. - [Narrator] Therefore, the U.S. decides to pay the full reward to the informant. $30 million in addition to being relocated to the United States. Their hope is that once Iraqi citizens see that the U.S. is serious\\nabout their bounties, it would encourage more people to step forward with information. - We\\'re trying to look for Saddam Hussein. We have his two sons and we\\nalready took care of them, but we need Saddam Hussein. We\\'re urging the Iraqi people to help us out any way that they can. - [Reporter] There\\'s no\\nshortage of information. But with a $25 million reward\\non offer, much is unreliable. - [Narrator] But as the months rolled by with many unsuccessful\\nraids to capture Saddam, it begins to seem less and less likely that anyone will come forward. (door thudding) - [Reporter 1] Three civilians were shot during last night\\'s raid. Innocent victims of this frantic search. - [Reporter 2] An elite secretive unit known as Task Force 20\\nis leading the hunt. There is no clear indication tonight that his capture is imminent. - The Americans are not about\\nto apologize for all of this. - [Reporter 1] A trail of\\ndestruction left in the wake of the special task force that\\'s hunting down Saddam Hussein. (soft percussive music) - [Narrator] With many of the raids leading to absolutely nothing,\\nthe focus again shifts. And the U.S. military puts their attention towards completing the\\ndeck by tracking down prior officials from Saddam\\'s regime. Several high ranking officials that worked directly\\nunder Saddam were captured with the hope that they might be able to provide information. Surprisingly though,\\nnone of them can point to their former president\\'s hiding place. And while the bulk of the\\nmilitary remained focused on hunting targets from the deck of cards, one Staff Sergeant Eric Maddox decides to go into a\\ncompletely different direction. Maddox realizes that the\\ntargets they are focused on represent the old regime\\nthat had fallen from power. These are people that were given positions because they were related to Saddam, and so their power came from him. Right now, what Saddam needs is people with the power to protect him, and that can only come from\\none place, his bodyguards. While in power, Saddam had a\\nsystem of personal protection comprised of three different tiers. The outermost level of guards were assigned to fixed locations, such as his various\\npalaces across the country. Above them was a level of guards that would travel ahead of Saddam to secure locations in various areas. And finally, above these\\nguards were the Hamaya, the innermost layer of elite guards. Those who would stay\\nwith Saddam at all times. Maddox theorizes that these guards are likely the ones\\ncurrently protecting Saddam. And in order to find them, he begins his work in\\nTikrit, Saddam\\'s hometown. Tikrit had already been\\nthoroughly searched and it is largely believed\\nthat Saddam isn\\'t hiding here. However, it is still a hotbed for another family group, the Al-Muslit. And most of Saddam\\'s elite bodyguards came from exactly this family. As Maddox begins his interrogations, he notices that one name keeps popping up. Muhammad Ibrahim Omar Al-Muslit. And the more Maddox learns\\nabout Muhammad Ibrahim, the more convinced he feels\\nthat he is on the right track. Not only was Muhammad Ibrahim one of Saddam\\'s most trusted\\ninner circle bodyguards, but it seems like he is currently leading the entire resistance\\nagainst the U.S. occupation. He had installed several lieutenants in charge of certain areas of Iraq to coordinate attacks\\nagainst coalition forces. And he is the one coordinating\\nfunds for counter attacks. - [Reporter] Saddam\\'s loyalists here had taken off their uniforms and tried to fight the\\nMarines with guerilla tactics. - [Narrator] And if Muhammad Ibrahim is really running operations\\nin Saddam\\'s stead, then he has to know\\nwhere Saddam is hiding. And so, Muhammad Ibrahim\\nbecomes a prime target. To get to him, Maddox Interrogates a nephew of Muhammad Ibrahim, who then reveals the names and locations of two close business associates, as well as the name of\\nMuhammad\\'s driver, Basim Latif. Basim along with family members of these business\\nassociates are interrogated and the U.S. is able to\\nbegin filling in the gaps of Muhammad\\'s movement. So far that they even find out the location of Muhammad\\'s son, Muslit, who is interrogated next. Initially, it seems that Muslit isn\\'t able to be of much help. He didn\\'t have much\\ninvolvement in the resistance, but what he did reveal is that he used to often\\ngo fishing with his father. And even though they don\\'t go anymore, he knows that his father still fishes at a pond he owns in the city of Samarra. This may seem like a trivial\\npiece of information, but Maddox thought back to an\\ninterrogation he had before with a prior housekeeper of Saddam. He remembers that the housekeeper had mentioned that Saddam loved Masgouf, a type of fish that is popular in Iraq. Suddenly, the trail seemed red hot and Maddox was certain that Muhammad would be able to lead him to Saddam. (bright lilting music) To find out more, U.S.\\nforces raid the fish farm Muhammad was known to use. Two fishermen were located, but neither of them were Muhammad. And when these fishermen are questioned, Maddox finds out that\\none of them was a cousin to a lieutenant in the resistance. And the fisherman also\\nmentions an uncle they shared who had a house in Baghdad. Perhaps Muhammad could be hiding there. If so, he would be hiding in plain sight in the Iraqi capital of Baghdad that had been under the control of the U.S. led coalition for months. But with no better lead to follow, the decision is made to\\nraid the house in Baghdad. When you think about it, what led them here is a\\nseries of rather weak links. As U.S. troops are about\\nto raid an apartment of an uncle of a fisherman from a place where the son of the suspect\\nremembers fishing with his dad. And so, it comes as a\\nsurprise to the special forces when inside the apartment\\nthey find their suspect. Muhammad Ibrahim Omar\\nAl-Muslit is captured. (helicopter blades whirring) Still, there was no guarantee that Muhammad would be willing to talk. Maddox himself questions him and he offers him protection\\nfor himself and his family. And with that assurance,\\nMuhammad begins to talk and he reveals that Saddam is hiding in the small farming village of Ad-Dawr, bringing us back to the scene from the very beginning of this video. As the U.S. troops searched a town, Muhammad Ibrahim is there\\nwith them as a prisoner. Based on his information, they search two unassuming farmhouses just east of the Tigris River. But when both of them are searched, their target is still nowhere in sight. Beginning to think this\\nrate is just a dead end, the troops are about to give up. But then, Muhammad Ibrahim\\npoints out another building just to the north of the second farmhouse. The building is little more\\nthan a shack with two rooms, and no one is inside here either. It seems as though Muhammad Ibrahim has a good idea of where Saddam is, but the soldiers are not catching on. And there must have been\\nsome final mental block that prevents Muhammad Ibrahim from straight up telling them. He is willing to help, but he\\nalso doesn\\'t wanna be the one giving Saddam away directly. And so, Muhammad Ibrahim begins\\nkicking at a piece of rope half buried in the ground outside the hut. Now, the soldiers understand. They find the trap door and Saddam. - Ladies and gentlemen, we got him. (crowd cheering and applauding) - United States military forces captured Saddam Hussein alive. In the history of Iraq, a\\ndark and painful era is over. A hopeful day has arrived. (screen whooshing) (somber music) - [Narrator] Even though\\nSaddam Hussein was captured, it didn\\'t end the Iraq War. Coalition forces had no exit strategy once Saddam\\'s reign had ended and instability continued for years as the country struggled to rebuild what the invasion had destroyed. The image of Saddam hiding though became one of the most iconic\\nones in modern history, ingrained not just in the\\ntimeline of global events, but also in pop culture. It even became somewhat of a\\nmeme with people finding Saddam hiding in all kinds of random places. Wikipedia even struggled with vandalism as Saddam kept hiding in\\nall kinds of random graphs. But this is where it is\\nimportant to remember that this moment didn\\'t\\nbecome iconic by itself. (gentle spirited music) After Saddam was captured in this hole, the U.S. military invited\\nlots of journalists to tour his hiding place, ensuring the world saw where\\nSaddam had been cowering. - Today, I had the chance to clamber into the tyrant\\'s last hiding place. It\\'s a miserable hiding place, particularly for a man who built some of the most ostentatious\\npalaces in the Middle East. - [Narrator] They publicized\\nphotos of his arrest, showing him frail and utterly defeated. They also conducted a medical\\nexamination of Saddam, where a doctor checked his teeth as though his dental hygiene was a concern after his capture. But this video also was released publicly. And really, this story isn\\'t\\njust about finding Saddam. It is also a tale of the\\npower of different narratives. On the U.S. side, there is the narrative that there were weapons\\nof mass destruction later proven to be false. Both the U.S. and Saddam understood that images\\ncan carry immense power. Saddam had spent decades\\nfostering a cult of personality, saturating the country with his image, using state-controlled media to build a larger than life persona while brutally oppressing\\nany form of opposition. And the U.S. military felt\\na need to erode that myth. With the support for\\nthe war quickly waning both in the U.S. and globally, an easy solution was to make\\nSaddam the face of the war. Saddam was undeniably one\\nof the most brutal leaders of the modern era, and the image he projected\\nwas built on propaganda. But the carefully staged\\npresentation of his downfall, the fact that this very\\nimage became so well known was no less a form of such. (gentle somber music) Telling stories like this is at the core of what I try to do with this channel. Revisiting events that shaped our world and recreating how\\nexactly they played out. And it is precisely what\\nI did for my next video, focusing on the Deep\\nWater Horizon catastrophe. - On April 20th, an\\nexplosion ripped through BP Deep Water Horizon drilling rig. (explosion booming) - Far offshore, the rig is\\nstill burning out of control. - It\\'s the worst oil\\nspill in U.S. history. - [Narrator] For this video, I have created extensive 3D\\nanimations to better visualize the sheer amount of oil\\nlost during the disaster. And the video explains how\\nengineers try to pluck a hole more than 5,000 feet deep in the ocean. - Because there\\'s never been a\\nleak this size at this depth, stopping it has tested the\\nlimits of human technology. (bell clanging) - [Narrator] One month from now, this video will come to YouTube, but you can already watch\\nit right now on Nebula. That is because I publish all\\nmy videos to Nebula first. One video ahead of the YouTube uploads. And I created an entire video series that is completely exclusive to Nebula called \"Under Exposure.\" It is a show I am incredibly proud of as I was able to focus\\non darker subject matters that would otherwise risk\\ngetting demonetized on YouTube. For example, if you enjoyed\\nthis video about Saddam Hussein, you will probably also\\nenjoy my exclusive video about the Kuwaiti Oil Fires. An unbelievable story of what happened when Saddam Hussein\\'s troops set thousands of oil wells on fire in the neighboring country of Kuwait. And besides my original series, Nebula is filled with exclusive content from lots and lots of talented creators. With exclusive game shows,\\nfull length documentaries, and even feature films. So, sign up on nebula.tv/neo. And if you use this link, you will actually get a 40%\\ndiscount of the annual plan. That comes out to just $3 a\\nmonth to access all of Nebula where you can watch all my videos early. So, thanks for your support\\nand thanks for watching. (gentle rhythmic music)'"
      ]
     },
     "execution_count": 48,
     "metadata": {},
     "output_type": "execute_result"
    }
   ],
   "source": [
    "transcript"
   ]
  },
  {
   "cell_type": "code",
   "execution_count": 49,
   "id": "f7a04c58",
   "metadata": {},
   "outputs": [],
   "source": [
    "splitter = RecursiveCharacterTextSplitter(chunk_size=1000, chunk_overlap=200)\n",
    "chunks = splitter.create_documents([transcript])"
   ]
  },
  {
   "cell_type": "code",
   "execution_count": 50,
   "id": "cd42bc64",
   "metadata": {},
   "outputs": [
    {
     "data": {
      "text/plain": [
       "22"
      ]
     },
     "execution_count": 50,
     "metadata": {},
     "output_type": "execute_result"
    }
   ],
   "source": [
    "len(chunks)"
   ]
  },
  {
   "cell_type": "code",
   "execution_count": 51,
   "id": "15fb76b3",
   "metadata": {},
   "outputs": [
    {
     "data": {
      "text/plain": [
       "langchain_core.documents.base.Document"
      ]
     },
     "execution_count": 51,
     "metadata": {},
     "output_type": "execute_result"
    }
   ],
   "source": [
    "type(chunks[0])"
   ]
  },
  {
   "cell_type": "code",
   "execution_count": 52,
   "id": "a1a8b493",
   "metadata": {},
   "outputs": [],
   "source": [
    "# embeddings = OpenAIEmbeddings(model=\"text-embedding-3-small\")\n",
    "# vector_store = FAISS.from_documents(chunks, embeddings)\n",
    "\n",
    "model_name = \"sentence-transformers/all-MiniLM-L6-v2\"\n",
    "# model_name = \"Qwen/Qwen3-Embedding-0.6B\"\n",
    "embeddings = HuggingFaceEmbeddings(model_name=model_name)\n",
    "vector_store = FAISS.from_documents(chunks, embeddings)\n"
   ]
  },
  {
   "cell_type": "code",
   "execution_count": 53,
   "id": "caba0a0e",
   "metadata": {},
   "outputs": [
    {
     "data": {
      "text/plain": [
       "{0: '84b20fcc-871f-4cce-9e19-5b38d70990f8',\n",
       " 1: 'ee9c277e-423c-476d-b725-262c26706588',\n",
       " 2: 'e6054623-8411-441c-94da-7d1545b781da',\n",
       " 3: '4ab5ba26-5d74-43d4-a2ac-c7f20de07fe4',\n",
       " 4: '1ee48b4b-59cf-4334-8f2d-3fc787e2e041',\n",
       " 5: 'ec07d3f2-0309-4b74-ab0b-d5dceb963b8b',\n",
       " 6: 'f8fe9c7b-7c67-4ccb-9644-0c730a6d8284',\n",
       " 7: '0b8cbd8c-43fe-4233-8ef9-13db87c491ee',\n",
       " 8: 'de789edd-8f07-4afe-b2d7-90858f282b12',\n",
       " 9: '8d0d9f7f-124f-4160-a31b-b37068062b3b',\n",
       " 10: 'd1fcbc98-4e92-409f-a66b-52f16eab807b',\n",
       " 11: '511006dd-6880-462b-8aea-b188864965c2',\n",
       " 12: '1e9a5dcb-9e70-4c07-aa19-2a4d578cf4ae',\n",
       " 13: 'bdace5b4-4065-4219-bd50-b2518daad9c8',\n",
       " 14: 'b988f813-eb33-44d3-ad90-3269c2214192',\n",
       " 15: '25782068-9629-49c5-a630-8d3e0df96842',\n",
       " 16: '3109c4dd-753f-45ff-b4dd-b9e4bbb72234',\n",
       " 17: '8091e8eb-b84b-45b4-962d-70ad6a3bb87a',\n",
       " 18: '4595e678-7d2d-481f-882c-0ed5bd9e97b4',\n",
       " 19: '783911f1-5e89-4e23-8853-977a772cc5b2',\n",
       " 20: '1c59ac74-73c4-4b8e-a0b7-f3896b179636',\n",
       " 21: 'c44484b6-5e56-40d9-80bd-cb02855ab2b1'}"
      ]
     },
     "execution_count": 53,
     "metadata": {},
     "output_type": "execute_result"
    }
   ],
   "source": [
    "vector_store.index_to_docstore_id"
   ]
  },
  {
   "cell_type": "code",
   "execution_count": 54,
   "id": "a8c462e5",
   "metadata": {},
   "outputs": [],
   "source": [
    "retriever = vector_store.as_retriever(search_type=\"similarity\", search_kwargs={\"k\": 4})"
   ]
  },
  {
   "cell_type": "code",
   "execution_count": 55,
   "id": "b5739f9d",
   "metadata": {},
   "outputs": [],
   "source": [
    "from dotenv import load_dotenv\n",
    "\n",
    "load_dotenv()\n",
    "\n",
    "llm = HuggingFaceEndpoint(\n",
    "    task='text-generation',\n",
    "    model=\"meta-llama/Llama-3.1-8B-Instruct\",\n",
    "    temperature=0.7,\n",
    ")\n",
    "\n",
    "model = ChatHuggingFace(llm = llm)"
   ]
  },
  {
   "cell_type": "code",
   "execution_count": 56,
   "id": "e0e6b1ed",
   "metadata": {},
   "outputs": [],
   "source": [
    "prompt = PromptTemplate(\n",
    "    template=\"\"\"\n",
    "      You are a helpful assistant.\n",
    "      Use the provided context of video transcript to answer .\n",
    "      If the context is insufficient, just say you don't know.\n",
    "\n",
    "      {context}\n",
    "      Question: {question}\n",
    "    \"\"\",\n",
    "    input_variables = ['context', 'question']\n",
    ")"
   ]
  },
  {
   "cell_type": "code",
   "execution_count": 57,
   "id": "efe1eca2",
   "metadata": {},
   "outputs": [],
   "source": [
    "question          = \"summarize the context\"\n",
    "retrieved_docs    = retriever.invoke(question)"
   ]
  },
  {
   "cell_type": "code",
   "execution_count": 58,
   "id": "ec098bd8",
   "metadata": {},
   "outputs": [
    {
     "data": {
      "text/plain": [
       "[Document(id='84b20fcc-871f-4cce-9e19-5b38d70990f8', metadata={}, page_content='- [Narrator] Imagine a\\nsmall rural village in Iraq in the middle of the night in 2003. A man is hiding inside\\nan underground hole. Its entrance covered with styrofoam. And suddenly, the streetlights\\nin the entire village go out and hundreds of U.S. soldiers begin sweeping through the town. As the troops reach the farmhouse, a soldier starts to unearth a rope, discovering that it leads\\nto the hidden trap door. They open it and prepare to\\nthrow a grenade into the hole just to be safe. But just before the pin is pulled, everyone freezes as a pair of\\nhands emerge from the hole, followed by a bearded man. With his hands in the air, he\\ndeclares to those around him. \"My name is Saddam Hussein. I am the president of Iraq\\nand I want to negotiate.\" - Ladies and gentlemen, we got him. (gentle music) - [Narrator] Whether\\nyou\\'ve heard the story of Saddam\\'s hiding place because of the countless'),\n",
       " Document(id='4595e678-7d2d-481f-882c-0ed5bd9e97b4', metadata={}, page_content=\"palaces in the Middle East. - [Narrator] They publicized\\nphotos of his arrest, showing him frail and utterly defeated. They also conducted a medical\\nexamination of Saddam, where a doctor checked his teeth as though his dental hygiene was a concern after his capture. But this video also was released publicly. And really, this story isn't\\njust about finding Saddam. It is also a tale of the\\npower of different narratives. On the U.S. side, there is the narrative that there were weapons\\nof mass destruction later proven to be false. Both the U.S. and Saddam understood that images\\ncan carry immense power. Saddam had spent decades\\nfostering a cult of personality, saturating the country with his image, using state-controlled media to build a larger than life persona while brutally oppressing\\nany form of opposition. And the U.S. military felt\\na need to erode that myth. With the support for\\nthe war quickly waning both in the U.S. and globally, an easy solution was to make\"),\n",
       " Document(id='8d0d9f7f-124f-4160-a31b-b37068062b3b', metadata={}, page_content=\"deck by tracking down prior officials from Saddam's regime. Several high ranking officials that worked directly\\nunder Saddam were captured with the hope that they might be able to provide information. Surprisingly though,\\nnone of them can point to their former president's hiding place. And while the bulk of the\\nmilitary remained focused on hunting targets from the deck of cards, one Staff Sergeant Eric Maddox decides to go into a\\ncompletely different direction. Maddox realizes that the\\ntargets they are focused on represent the old regime\\nthat had fallen from power. These are people that were given positions because they were related to Saddam, and so their power came from him. Right now, what Saddam needs is people with the power to protect him, and that can only come from\\none place, his bodyguards. While in power, Saddam had a\\nsystem of personal protection comprised of three different tiers. The outermost level of guards were assigned to fixed locations, such as his various\"),\n",
       " Document(id='ee9c277e-423c-476d-b725-262c26706588', metadata={}, page_content='and I want to negotiate.\" - Ladies and gentlemen, we got him. (gentle music) - [Narrator] Whether\\nyou\\'ve heard the story of Saddam\\'s hiding place because of the countless\\nmemes circulating online, or whether you lived through this time and think you remember it, I doubt you ever heard the full story. And so for this video, I\\nwill be exploring just that. This is how Saddam Hussein was found. (dramatic music) The hunt for Saddam began\\nwith the invasion of Iraq in March of 2003. - My fellow citizens, at this hour, American and coalition forces\\nare in the early stages of military operations to\\ndisarm Iraq, to free its people, and to defend the world from grave danger. - [Narrator] The U.S.\\nhad started a coalition to overthrow the Iraqi president, and the reason they presented\\nto the world for doing so was that they claimed Saddam was hiding weapons of mass destruction. - There is no doubt that Saddam Hussein now has weapons of mass destruction. - [Narrator] A claim that would')]"
      ]
     },
     "execution_count": 58,
     "metadata": {},
     "output_type": "execute_result"
    }
   ],
   "source": [
    "retrieved_docs"
   ]
  },
  {
   "cell_type": "code",
   "execution_count": 59,
   "id": "b6715b7e",
   "metadata": {},
   "outputs": [
    {
     "data": {
      "text/plain": [
       "'- [Narrator] Imagine a\\nsmall rural village in Iraq in the middle of the night in 2003. A man is hiding inside\\nan underground hole. Its entrance covered with styrofoam. And suddenly, the streetlights\\nin the entire village go out and hundreds of U.S. soldiers begin sweeping through the town. As the troops reach the farmhouse, a soldier starts to unearth a rope, discovering that it leads\\nto the hidden trap door. They open it and prepare to\\nthrow a grenade into the hole just to be safe. But just before the pin is pulled, everyone freezes as a pair of\\nhands emerge from the hole, followed by a bearded man. With his hands in the air, he\\ndeclares to those around him. \"My name is Saddam Hussein. I am the president of Iraq\\nand I want to negotiate.\" - Ladies and gentlemen, we got him. (gentle music) - [Narrator] Whether\\nyou\\'ve heard the story of Saddam\\'s hiding place because of the countless\\n\\npalaces in the Middle East. - [Narrator] They publicized\\nphotos of his arrest, showing him frail and utterly defeated. They also conducted a medical\\nexamination of Saddam, where a doctor checked his teeth as though his dental hygiene was a concern after his capture. But this video also was released publicly. And really, this story isn\\'t\\njust about finding Saddam. It is also a tale of the\\npower of different narratives. On the U.S. side, there is the narrative that there were weapons\\nof mass destruction later proven to be false. Both the U.S. and Saddam understood that images\\ncan carry immense power. Saddam had spent decades\\nfostering a cult of personality, saturating the country with his image, using state-controlled media to build a larger than life persona while brutally oppressing\\nany form of opposition. And the U.S. military felt\\na need to erode that myth. With the support for\\nthe war quickly waning both in the U.S. and globally, an easy solution was to make\\n\\ndeck by tracking down prior officials from Saddam\\'s regime. Several high ranking officials that worked directly\\nunder Saddam were captured with the hope that they might be able to provide information. Surprisingly though,\\nnone of them can point to their former president\\'s hiding place. And while the bulk of the\\nmilitary remained focused on hunting targets from the deck of cards, one Staff Sergeant Eric Maddox decides to go into a\\ncompletely different direction. Maddox realizes that the\\ntargets they are focused on represent the old regime\\nthat had fallen from power. These are people that were given positions because they were related to Saddam, and so their power came from him. Right now, what Saddam needs is people with the power to protect him, and that can only come from\\none place, his bodyguards. While in power, Saddam had a\\nsystem of personal protection comprised of three different tiers. The outermost level of guards were assigned to fixed locations, such as his various\\n\\nand I want to negotiate.\" - Ladies and gentlemen, we got him. (gentle music) - [Narrator] Whether\\nyou\\'ve heard the story of Saddam\\'s hiding place because of the countless\\nmemes circulating online, or whether you lived through this time and think you remember it, I doubt you ever heard the full story. And so for this video, I\\nwill be exploring just that. This is how Saddam Hussein was found. (dramatic music) The hunt for Saddam began\\nwith the invasion of Iraq in March of 2003. - My fellow citizens, at this hour, American and coalition forces\\nare in the early stages of military operations to\\ndisarm Iraq, to free its people, and to defend the world from grave danger. - [Narrator] The U.S.\\nhad started a coalition to overthrow the Iraqi president, and the reason they presented\\nto the world for doing so was that they claimed Saddam was hiding weapons of mass destruction. - There is no doubt that Saddam Hussein now has weapons of mass destruction. - [Narrator] A claim that would'"
      ]
     },
     "execution_count": 59,
     "metadata": {},
     "output_type": "execute_result"
    }
   ],
   "source": [
    "context_text = \"\\n\\n\".join(doc.page_content for doc in retrieved_docs)\n",
    "context_text"
   ]
  },
  {
   "cell_type": "code",
   "execution_count": 60,
   "id": "5ddb9655",
   "metadata": {},
   "outputs": [],
   "source": [
    "final_prompt = prompt.invoke({\"context\": context_text, \"question\": question})"
   ]
  },
  {
   "cell_type": "code",
   "execution_count": 61,
   "id": "6daa35d9",
   "metadata": {},
   "outputs": [
    {
     "data": {
      "text/plain": [
       "StringPromptValue(text='\\n      You are a helpful assistant.\\n      Use the provided context of video transcript to answer .\\n      If the context is insufficient, just say you don\\'t know.\\n\\n      - [Narrator] Imagine a\\nsmall rural village in Iraq in the middle of the night in 2003. A man is hiding inside\\nan underground hole. Its entrance covered with styrofoam. And suddenly, the streetlights\\nin the entire village go out and hundreds of U.S. soldiers begin sweeping through the town. As the troops reach the farmhouse, a soldier starts to unearth a rope, discovering that it leads\\nto the hidden trap door. They open it and prepare to\\nthrow a grenade into the hole just to be safe. But just before the pin is pulled, everyone freezes as a pair of\\nhands emerge from the hole, followed by a bearded man. With his hands in the air, he\\ndeclares to those around him. \"My name is Saddam Hussein. I am the president of Iraq\\nand I want to negotiate.\" - Ladies and gentlemen, we got him. (gentle music) - [Narrator] Whether\\nyou\\'ve heard the story of Saddam\\'s hiding place because of the countless\\n\\npalaces in the Middle East. - [Narrator] They publicized\\nphotos of his arrest, showing him frail and utterly defeated. They also conducted a medical\\nexamination of Saddam, where a doctor checked his teeth as though his dental hygiene was a concern after his capture. But this video also was released publicly. And really, this story isn\\'t\\njust about finding Saddam. It is also a tale of the\\npower of different narratives. On the U.S. side, there is the narrative that there were weapons\\nof mass destruction later proven to be false. Both the U.S. and Saddam understood that images\\ncan carry immense power. Saddam had spent decades\\nfostering a cult of personality, saturating the country with his image, using state-controlled media to build a larger than life persona while brutally oppressing\\nany form of opposition. And the U.S. military felt\\na need to erode that myth. With the support for\\nthe war quickly waning both in the U.S. and globally, an easy solution was to make\\n\\ndeck by tracking down prior officials from Saddam\\'s regime. Several high ranking officials that worked directly\\nunder Saddam were captured with the hope that they might be able to provide information. Surprisingly though,\\nnone of them can point to their former president\\'s hiding place. And while the bulk of the\\nmilitary remained focused on hunting targets from the deck of cards, one Staff Sergeant Eric Maddox decides to go into a\\ncompletely different direction. Maddox realizes that the\\ntargets they are focused on represent the old regime\\nthat had fallen from power. These are people that were given positions because they were related to Saddam, and so their power came from him. Right now, what Saddam needs is people with the power to protect him, and that can only come from\\none place, his bodyguards. While in power, Saddam had a\\nsystem of personal protection comprised of three different tiers. The outermost level of guards were assigned to fixed locations, such as his various\\n\\nand I want to negotiate.\" - Ladies and gentlemen, we got him. (gentle music) - [Narrator] Whether\\nyou\\'ve heard the story of Saddam\\'s hiding place because of the countless\\nmemes circulating online, or whether you lived through this time and think you remember it, I doubt you ever heard the full story. And so for this video, I\\nwill be exploring just that. This is how Saddam Hussein was found. (dramatic music) The hunt for Saddam began\\nwith the invasion of Iraq in March of 2003. - My fellow citizens, at this hour, American and coalition forces\\nare in the early stages of military operations to\\ndisarm Iraq, to free its people, and to defend the world from grave danger. - [Narrator] The U.S.\\nhad started a coalition to overthrow the Iraqi president, and the reason they presented\\nto the world for doing so was that they claimed Saddam was hiding weapons of mass destruction. - There is no doubt that Saddam Hussein now has weapons of mass destruction. - [Narrator] A claim that would\\n      Question: summarize the context\\n    ')"
      ]
     },
     "execution_count": 61,
     "metadata": {},
     "output_type": "execute_result"
    }
   ],
   "source": [
    "final_prompt"
   ]
  },
  {
   "cell_type": "code",
   "execution_count": 62,
   "id": "0c48c712",
   "metadata": {},
   "outputs": [
    {
     "name": "stdout",
     "output_type": "stream",
     "text": [
      "The context is about the story of how Saddam Hussein was found and captured by US soldiers in 2003. The video transcript describes the events leading up to his capture, including the U.S. invasion of Iraq, the search for Saddam, and the efforts to erode his cult of personality.\n",
      "\n",
      "The key points in the context are:\n",
      "\n",
      "1. Saddam was hiding in a secret underground hole in a rural village in Iraq.\n",
      "2. US soldiers discovered the hole and were preparing to throw a grenade in when Saddam emerged and asked to negotiate.\n",
      "3. The capture of Saddam was a significant event, but the U.S. military's actions and the role of media in shaping narratives are also explored in the context.\n",
      "\n",
      "The transcript also delves into the power of different narratives, including the U.S. narrative of finding weapons of mass destruction and Saddam's own cult of personality. The story highlights the investigation that led to Saddam's capture, including the decision to focus on his bodyguards rather than the officials from his regime.\n"
     ]
    }
   ],
   "source": [
    "answer = model.invoke(final_prompt)\n",
    "print(answer.content)"
   ]
  },
  {
   "cell_type": "code",
   "execution_count": 23,
   "id": "fdb4ad47",
   "metadata": {},
   "outputs": [],
   "source": [
    "from langchain_core.runnables import RunnableParallel, RunnablePassthrough, RunnableLambda\n",
    "from langchain_core.output_parsers import StrOutputParser"
   ]
  },
  {
   "cell_type": "code",
   "execution_count": 24,
   "id": "ccddd514",
   "metadata": {},
   "outputs": [],
   "source": [
    "def format_docs(retrieved_docs):\n",
    "  context_text = \"\\n\\n\".join(doc.page_content for doc in retrieved_docs)\n",
    "  return context_text"
   ]
  },
  {
   "cell_type": "code",
   "execution_count": 25,
   "id": "920b92e5",
   "metadata": {},
   "outputs": [],
   "source": [
    "parallel_chain = RunnableParallel({\n",
    "    'context': retriever | RunnableLambda(format_docs),\n",
    "    'question': RunnablePassthrough()\n",
    "})"
   ]
  },
  {
   "cell_type": "code",
   "execution_count": 26,
   "id": "1c226f81",
   "metadata": {},
   "outputs": [
    {
     "data": {
      "text/plain": [
       "{'context': \"to get world peace because there's also other corrupting things like wanting power over people and this kind of stuff which is not necessarily satisfied by by just abundance but i think it will help um and i think uh but i think ultimately ai is not going to be run by any one person or one organization i think it should belong to the world belong to humanity um and i think maybe many there'll be many ways this will happen and ultimately um everybody should have a say in that do you have advice for uh young people in high school and college maybe um if they're interested in ai or interested in having a big impact on the world what they should do to have a career they can be proud of her to have a life they can be proud of i love giving talks to the next generation what i say to them is actually two things i i think the most important things to learn about and to find out about when you're when you're young is what are your true passions is first of all there's two things one is find\\n\\nthe following is a conversation with demus hasabis ceo and co-founder of deepmind a company that has published and builds some of the most incredible artificial intelligence systems in the history of computing including alfred zero that learned all by itself to play the game of gold better than any human in the world and alpha fold two that solved protein folding both tasks considered nearly impossible for a very long time demus is widely considered to be one of the most brilliant and impactful humans in the history of artificial intelligence and science and engineering in general this was truly an honor and a pleasure for me to finally sit down with him for this conversation and i'm sure we will talk many times again in the future this is the lex friedman podcast to support it please check out our sponsors in the description and now dear friends here's demis hassabis let's start with a bit of a personal question am i an ai program you wrote to interview people until i get good enough\\n\\nof deep mind just as a human being let me ask you about this one particular anecdotal evidence of the google engineer who made a comment or believed that there's some aspect of a language model the lambda language model that exhibited sentience so you said you believe there might be a responsibility to build systems that are not essential and this experience of a particular engineer i think i'd love to get your general opinion on this kind of thing but i think it will happen more and more and more which uh not when engineers but when people out there that don't have an engineering background start interacting with increasingly intelligent systems we anthropomorphize them they they start to have deep impactful um interactions with us in a way that we miss them yeah when they're gone and we sure feel like they're living entities self-aware entities and maybe even we project sentience onto them so what what's your thought about this particular uh system was is uh have you ever met a\\n\\nthat are amazingly smart at certain things like maybe playing go and chess and other things but they don't feel at all in any shape or form conscious in the way that you know you do to me or i do to you and um and i think actually building ai is uh these intelligent constructs uh is one of the best ways to explore the mystery of consciousness to break it down because um we're going to have devices that are pretty smart at certain things or capable of certain things but potentially won't have any semblance of self-awareness or other things and in fact i would advocate if there's a choice building systems in the first place ai systems that are not conscious to begin with uh are just tools um until we understand them better and the capabilities better so on that topic just not as the ceo of deep mind just as a human being let me ask you about this one particular anecdotal evidence of the google engineer who made a comment or believed that there's some aspect of a language model the\",\n",
       " 'question': 'who is Demis'}"
      ]
     },
     "execution_count": 26,
     "metadata": {},
     "output_type": "execute_result"
    }
   ],
   "source": [
    "parallel_chain.invoke('who is Demis')"
   ]
  },
  {
   "cell_type": "code",
   "execution_count": 27,
   "id": "d9e3ab0c",
   "metadata": {},
   "outputs": [],
   "source": [
    "parser = StrOutputParser()"
   ]
  },
  {
   "cell_type": "code",
   "execution_count": 30,
   "id": "b8b5b703",
   "metadata": {},
   "outputs": [],
   "source": [
    "main_chain = parallel_chain | prompt | model | parser"
   ]
  },
  {
   "cell_type": "code",
   "execution_count": 31,
   "id": "50b56de3",
   "metadata": {},
   "outputs": [
    {
     "data": {
      "text/plain": [
       "\"The conversation is about explaining complex topics in a simple way. The speaker thinks that explaining things clearly and simply is a sign of intelligence. They mention Richard Feynman as an example of someone who could explain complex topics in a simple way. The conversation also touches on the topic of artificial intelligence and how it can be used to enhance human intelligence. The speaker shares a personal anecdote about being impressed by Garry Kasparov's mind when he beat Deep Blue, a chess-playing computer.\""
      ]
     },
     "execution_count": 31,
     "metadata": {},
     "output_type": "execute_result"
    }
   ],
   "source": [
    "main_chain.invoke('Can you summarize the video')"
   ]
  }
 ],
 "metadata": {
  "kernelspec": {
   "display_name": "ybot",
   "language": "python",
   "name": "python3"
  },
  "language_info": {
   "codemirror_mode": {
    "name": "ipython",
    "version": 3
   },
   "file_extension": ".py",
   "mimetype": "text/x-python",
   "name": "python",
   "nbconvert_exporter": "python",
   "pygments_lexer": "ipython3",
   "version": "3.12.5"
  }
 },
 "nbformat": 4,
 "nbformat_minor": 5
}
